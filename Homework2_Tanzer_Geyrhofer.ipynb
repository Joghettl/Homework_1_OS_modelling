{
 "cells": [
  {
   "cell_type": "markdown",
   "id": "237e6e09-2356-4022-8fc8-14d12baa9af2",
   "metadata": {},
   "source": [
    "# Profitability of a single PV system"
   ]
  },
  {
   "cell_type": "code",
   "execution_count": null,
   "id": "642b8b36-bbaa-4083-aa60-a0325fab5002",
   "metadata": {},
   "outputs": [
    {
     "name": "stdout",
     "output_type": "stream",
     "text": [
      "0.05\n"
     ]
    }
   ],
   "source": [
    "\n",
    "#functions\n",
    "def calculate_price_n_return(p_supply,p_grid_var, p_grid_fixed, r_sales, grid_purchase):\n",
    "    p=(grid_purchase*p_supply)+(grid_purchase*p_grid_var)+p_grid_fixed\n",
    "    if(grid_purchase==grid_a): r= overproduction_a*r_sales\n",
    "    elif(grid_purchase==load_a):r=generation_a*r_sales\n",
    "    else: r=0\n",
    "    return p, r\n",
    "\n",
    "\n",
    "def calculation_interestrate(Matrikelnummer):     \n",
    "    q = sum(int(digit) for digit in str(Matrikelnummer))\n",
    "    a=((q * 5) % 40) * 10**-2\n",
    "    if(a>0.1):\n",
    "        a=0.05\n",
    "    return a\n",
    "\n",
    "# NPV for the PV-system\n",
    "def calculate_npv(p_invest, life_t, p, r, interest_r):\n",
    "    npv_1 = -p_invest  \n",
    "\n",
    "    for t in range (1, life_t + 1):\n",
    "        npv_1 -= (p)/(1+interest_r)**t\n",
    "        npv_1 += r/(1+interest_r)**t\n",
    "    return npv_1\n",
    "\n",
    "MatrNr = 12122289\n",
    "interest_rate = calculation_interestrate(MatrNr)\n",
    "print(interest_rate)\n",
    "\n",
    "C_installed = 3 #kWp\n",
    "P_invest_spec = 800 #€/kWp\n",
    "lifetime = 25 #years\n",
    "P_invest = P_invest_spec*C_installed\n",
    "\n",
    "#electricity purchase and sale\n",
    "P_supply = 0.2 # €/kWh\n",
    "P_grid_var = 0.05 # €/kWh\n",
    "P_grid_fixed = 100 # €/a\n",
    "R_sales = 0.1 #€/kWh\n",
    "\n",
    "#profiles\n",
    "load_d = 5*0.5+1+1.5*3+2*2+3*2+2.5*2+2+1.5*2+2*2+1.5+0.5*3 #kWh\n",
    "load_a = load_d*365\n",
    "generation_d = 0.5*2+2+2.5*2+3*2+2.5*2+2+1.5+0.5 #kWh\n",
    "generation_a = generation_d*365\n",
    "grid_d = 0.5*5+1+1.5+2*1+0.5+1.5+2+1.5+3*0.5 #kWh\n",
    "grid_a = grid_d*365\n",
    "overproduction_d = 0.5+0.5+0.5+0.5 #kWh\n",
    "overproduction_a = overproduction_d*365\n",
    "\n"
   ]
  },
  {
   "cell_type": "markdown",
   "id": "86f93074-2104-417a-87d8-d1aeca2f41ea",
   "metadata": {},
   "source": [
    "## a) Net Present Value"
   ]
  },
  {
   "cell_type": "code",
   "execution_count": 7,
   "id": "51d1b8f6-3203-4d32-b09f-2031d18d8338",
   "metadata": {},
   "outputs": [
    {
     "name": "stdout",
     "output_type": "stream",
     "text": [
      "Net Present Value over the entire technical lifetime of the PV system is -20785.55\n"
     ]
    }
   ],
   "source": [
    "P_1 = calculate_price_n_return(P_supply,P_grid_var,P_grid_fixed, R_sales, grid_a)[0]\n",
    "R_1 = calculate_price_n_return(P_supply,P_grid_var,P_grid_fixed, R_sales, grid_a)[1]\n",
    "npv_1 = calculate_npv(P_invest,lifetime,P_1, R_1, interest_rate)\n",
    "\n",
    "print(\"Net Present Value over the entire technical lifetime of the PV system is\",round(npv_1,2))\n",
    "\n"
   ]
  },
  {
   "cell_type": "markdown",
   "id": "10f04838",
   "metadata": {},
   "source": [
    "NPV for purchase only"
   ]
  },
  {
   "cell_type": "code",
   "execution_count": 8,
   "id": "04433212-760c-4701-adb8-f030b24eca67",
   "metadata": {},
   "outputs": [
    {
     "name": "stdout",
     "output_type": "stream",
     "text": [
      "Net Present Value from pure electricity purchase with no pv installed is -46421.93\n",
      "Net Present Value from pure electricity purchase with pv installed is -36990.06\n"
     ]
    }
   ],
   "source": [
    "\n",
    "\n",
    "P_2 = calculate_price_n_return(P_supply,P_grid_var,P_grid_fixed, 0, load_a)[0]\n",
    "R_2 = calculate_price_n_return(P_supply,P_grid_var,P_grid_fixed, 0, load_a)[1]\n",
    "\n",
    "P_2a = calculate_price_n_return(P_supply,P_grid_var,P_grid_fixed, R_sales, load_a)[0]\n",
    "R_2a = calculate_price_n_return(P_supply,P_grid_var,P_grid_fixed, R_sales, load_a)[1]\n",
    "\n",
    "npv_2 = calculate_npv(0.0, lifetime, P_2, R_2, interest_rate)\n",
    "npv_2a = calculate_npv(P_invest, lifetime, P_2a, R_2a, interest_rate)\n",
    "\n",
    "print(\"Net Present Value from pure electricity purchase with no pv installed is\",round(npv_2,2))\n",
    "print(\"Net Present Value from pure electricity purchase with pv installed is\",round(npv_2a,2))\n",
    "\n"
   ]
  },
  {
   "cell_type": "markdown",
   "id": "4269a3df",
   "metadata": {},
   "source": [
    "NPV with no remuneration for surplus feedin"
   ]
  },
  {
   "cell_type": "code",
   "execution_count": 9,
   "id": "63a5f322-861f-4af7-befc-0d49d6700083",
   "metadata": {},
   "outputs": [
    {
     "name": "stdout",
     "output_type": "stream",
     "text": [
      "Net Present Value if there is no remuneration for surplus feed-in is -21814.41\n"
     ]
    }
   ],
   "source": [
    "\n",
    "P_3 = calculate_price_n_return(P_supply,P_grid_var,P_grid_fixed, 0, grid_a)[0]\n",
    "R_3 = calculate_price_n_return(P_supply,P_grid_var,P_grid_fixed, 0, grid_a)[1]\n",
    "npv_3 = calculate_npv(P_invest, lifetime, P_3, R_3, interest_rate)\n",
    "\n",
    "\n",
    "print(\"Net Present Value if there is no remuneration for surplus feed-in is\",round(npv_3,2))"
   ]
  }
 ],
 "metadata": {
  "kernelspec": {
   "display_name": "Python 3",
   "language": "python",
   "name": "python3"
  },
  "language_info": {
   "codemirror_mode": {
    "name": "ipython",
    "version": 3
   },
   "file_extension": ".py",
   "mimetype": "text/x-python",
   "name": "python",
   "nbconvert_exporter": "python",
   "pygments_lexer": "ipython3",
   "version": "3.11.9"
  }
 },
 "nbformat": 4,
 "nbformat_minor": 5
}
